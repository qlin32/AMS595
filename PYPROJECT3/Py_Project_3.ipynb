{
  "cells": [
    {
      "cell_type": "markdown",
      "metadata": {
        "id": "xq__bChjD04e"
      },
      "source": [
        "# Python Assignment 3"
      ]
    },
    {
      "cell_type": "markdown",
      "metadata": {
        "id": "y7j2V0UDMYLG"
      },
      "source": [
        "⏱⏱⏱**Due: 11/02/2023 11:59 PM** ⏱⏱⏱\n",
        "\n",
        "Please submit your notebook files and upload them to your Git repository. Don't forget to include a link to your Git repository when submitting this file on Brightspace. **Please include all outputs in your notebook, including plots, printouts, etc..**\n",
        "\n",
        "Collaboration is permitted and encouraged; however, it's essential to independently produce and submit your own work. If you collaborate with others, please ensure that you provide their names in the designated section.\n",
        "\n",
        "Collaborators:_____"
      ]
    },
    {
      "cell_type": "markdown",
      "metadata": {
        "id": "SUS30Ew9D04n"
      },
      "source": [
        "##**For Questions 2a and 2b, you can choose one of them to complete, if you completed both, only Questions 2a will be graded.**\n",
        "\n",
        "**This assignment is out of 150 points; surplus points can be applied to other assignments (including Matlab and C/C++). However, it cannot be applied to your final project grade, and your assignment grade will not excced 75% of your total grade.**"
      ]
    },
    {
      "cell_type": "markdown",
      "metadata": {
        "id": "KR0Fl4yAQYad"
      },
      "source": [
        "## 1. Good presentation of your code and outputs; submitting your files to Github (10 pts)"
      ]
    },
    {
      "cell_type": "markdown",
      "metadata": {
        "id": "9WPZWhYQkptT"
      },
      "source": [
        "Ensure thorough and clear comments within your code to explain its functionality.\n",
        "\n",
        "Enhance your plots by adding titles, legends, and axis labels where appropriate to provide clarity.\n",
        "\n",
        "If necessary, employ LaTex notation to present mathematical explanations within the notebook.\n",
        "\n",
        "Divide your code into multiple blocks or cells in Jupyter Notebook and provide descriptive explanations for each block to improve readability.\n",
        "\n",
        "As part of your submission, **include the notebook files and upload them to your Git repository. Additionally, remember to provide a link to your Git repository when submitting the files on Brightspace.** Do not submit a compressed file (.rar, .zip, etc..), submit files separately.\n",
        "\n",
        "If you are tasked with implementing a numerical algorithm, it is expected that you would not rely on pre-existing methods. For example, if you were asked to solve $Ax=b$, you should write your own program to solve, not just by calling numpy.linalg.solve.\n",
        "\n"
      ]
    },
    {
      "cell_type": "markdown",
      "metadata": {
        "id": "U5SL2j0sqnAJ"
      },
      "source": [
        "## 2a. Numerical Integration (30 pts)"
      ]
    },
    {
      "cell_type": "markdown",
      "metadata": {
        "id": "OxwdE468rNAR"
      },
      "source": [
        "For a domain discretized into $N$ equally spaced panels:\n",
        "$$\n",
        "\\Delta x=\\frac{b-a}{N}.\n",
        "$$\n",
        "The approximation to the integral is\n",
        "$$\\begin{aligned}\n",
        "\\int_a^b f(x) d x & \\approx \\frac{\\Delta x}{2} \\sum_{k=1}^N\\left(f\\left(x_{k-1}\\right)+f\\left(x_k\\right)\\right) \\\\\n",
        "& =\\frac{\\Delta x}{2}\\left(f\\left(x_0\\right)+2 f\\left(x_1\\right)+2 f\\left(x_2\\right)+2 f\\left(x_3\\right)+\\cdots+2 f\\left(x_{N-1}\\right)+f\\left(x_N\\right)\\right) \\\\\n",
        "& =\\Delta x\\left(\\sum_{k=1}^{N-1} f\\left(x_k\\right)+\\frac{f\\left(x_N\\right)+f\\left(x_0\\right)}{2}\\right) .\n",
        "\\end{aligned}$$\n",
        "This is the trapezoid rule scheme.\n",
        "\n",
        "\n",
        "Given the function $f(x) = 3x^2 + 2x +2$, your tasks are:\n",
        "\n",
        "1. Carry out the integration symbolically using the SymPy library. Output the result (i.e. print out the result).\n",
        "2. Implement the trapezoid rule to estimate the integral $\\int_{-4}^6 f(x) dx$ using the following values of $N = 10, 20, 40, 80, 160, 320, 640, 1280$. Output the results (i.e. print out the results).\n",
        "3. Plot the absolute error (absolute difference between the numerical approximation and the SymPy result) against N.\n",
        "\n",
        "\n",
        "\n"
      ]
    },
    {
      "cell_type": "code",
      "execution_count": 32,
      "metadata": {},
      "outputs": [
        {
          "name": "stdout",
          "output_type": "stream",
          "text": [
            "general integral result: x**3 + x**2 + 2*x\n",
            "integral result: 320\n",
            "N=10: 325.0\n",
            "N=20: 321.25\n",
            "N=40: 320.3125\n",
            "N=80: 320.078125\n",
            "N=160: 320.01953125\n",
            "N=320: 320.0048828125\n",
            "N=640: 320.001220703125\n",
            "N=1280: 320.00030517578125\n"
          ]
        },
        {
          "data": {
            "image/png": "[encoded data removed]",
            "text/plain": [
              "<Figure size 640x480 with 1 Axes>"
            ]
          },
          "metadata": {},
          "output_type": "display_data"
        }
      ],
      "source": [
        "#import libraries\n",
        "import sympy as sp\n",
        "import matplotlib.pyplot as plt\n",
        "\n",
        "#define symbol x and function f(x)\n",
        "x = sp.symbols('x')\n",
        "f = 3*x**2 + 2*x + 2\n",
        "\n",
        "#print integration results\n",
        "unfint = sp.integrate(f, x)\n",
        "print(f\"general integral result: {unfint}\")\n",
        "fint = sp.integrate(f, (x, -4, 6))\n",
        "print(f\"integral result: {fint}\")\n",
        "\n",
        "#trapezoidal rule function\n",
        "def trap(a, b, N): \n",
        "\n",
        "    d = (b - a) / N\n",
        "\n",
        "    sum = 0\n",
        "    for i in range(1,N):\n",
        "        sum += 3*(a + (i * d))**2 + 2*(a + (i * d)) + 2\n",
        "\n",
        "    f_a = 3*(a)**2 + 2*(a) + 2\n",
        "    f_b = 3*(b)**2 + 2*(b) + 2\n",
        "\n",
        "    return d * (sum + (f_a + f_b) / 2)\n",
        "\n",
        "N_val = [10, 20, 40, 80, 160, 320, 640, 1280]\n",
        "\n",
        "#For each N, calculate the trapezoidal approximation. print the result\n",
        "approximation = []\n",
        "for N in N_val:\n",
        "    approx = trap(-4,6,N)\n",
        "    approximation.append(approx)\n",
        "    print(f\"N={N}: {approx}\")\n",
        "\n",
        "#calculate the absolute error by taking the absolute difference between approximation and the integral value\n",
        "abserr = [abs(approx - fint) for approx in approximation]\n",
        "\n",
        "#plot\n",
        "plt.plot(N_val, abserr)\n",
        "plt.title(\"N vs Abs Error\")\n",
        "plt.xlabel('N')\n",
        "plt.ylabel('Abs Error')\n",
        "plt.show()"
      ]
    },
    {
      "cell_type": "markdown",
      "metadata": {
        "id": "uzMa1xSEwhe3"
      },
      "source": [
        "## 2b. Numerical Differentiation (30 pts)"
      ]
    },
    {
      "cell_type": "markdown",
      "metadata": {
        "id": "FoA2lb0VxDk4"
      },
      "source": [
        "Your tasks:\n",
        "1. Find the closed form expression of $f_{xy}(x,y)$, i.e. $\\frac{d^2}{dxdy}f(x,y)$, for $f(x,y) = \\left(sin^2\\left(x\\right)e^xcos(y)\\right)$ using `sympy`. Output the result.\n",
        "2. Find $f_{xy}(2,3)$ with `sympy` and take 15 significant digits, use it as the \"groud truth solution\". Output the result.\n",
        "3. Approximate $f_{xy}(2,3)$ using central difference approximation for the following values of $h = 0.1, 0.01, 0.001, 0.0001$. Output the results.\n",
        "4. Plot the absolute error (absolute difference between the numerical approximation and the SymPy result) against the step size $h$. `plt.gca().invert_xaxis() ` might help.\n",
        "\n",
        "Recall from the lecture:\n",
        "$$f_{x y}(x, y) \\approx \\frac{f(x+h, y+k)-f(x+h, y-k)-f(x-h, y+k)+f(x-h, y-k)}{4 h k}.$$\n",
        "For simplicity, we set $k = h$."
      ]
    },
    {
      "cell_type": "markdown",
      "metadata": {
        "id": "aCgIDqeLBPjj"
      },
      "source": [
        "## 3. Pandas I (15 pts)"
      ]
    },
    {
      "cell_type": "markdown",
      "metadata": {
        "id": "O1w1avrtBYD5"
      },
      "source": [
        "1. Create a 3x4 (3 rows by 4 columns) pandas DataFrame with the columns named after the following Long Island towns: Hempstead, Babylon, Islip, and Brookhaven. The rows represent 'Population in 2099', 'Population in 2300', 'Population in 2400'. Fill each of the 12 cells in the DataFrame with a random integer from 1000 to 10000, inclusive. `np.random.randint()` might be helpful.\n",
        "For Example:\n",
        "\n",
        "```\n",
        "                    Hempstead  Babylon  Islip  Brookhaven\n",
        "Population in 2099       2931     8043   8414        8661\n",
        "Population in 2300       5444     9227   7393        8007\n",
        "Population in 2400       1660     7977   4730        2940\n",
        "```\n",
        "\n",
        "\n",
        "\n",
        "2. Output the following:\n",
        "  - The entire DataFrame.\n",
        "  - The value in the cell of row #1 (indexing starts with 0) under the Hempstead column.\n",
        "\n",
        "3. Add a new column named Riverhead. Populate this column with the sum of the respective row values from the Islip and Brookhaven columns. Output the entire DataFrame again."
      ]
    },
    {
      "cell_type": "code",
      "execution_count": 42,
      "metadata": {},
      "outputs": [
        {
          "name": "stdout",
          "output_type": "stream",
          "text": [
            "                    Hempstead  Babylon  Islip  Brookhaven\n",
            "Population in 2099       3934     3721   1928        6627\n",
            "Population in 2300       7265     6446   1469        9717\n",
            "Population in 2400       2863     2720   6272        1591\n",
            "\n",
            " Value in the cell of row #1 under the Hempstead column: 3934\n",
            "\n",
            "                     Hempstead  Babylon  Islip  Brookhaven  Riverhead\n",
            "Population in 2099       3934     3721   1928        6627       8555\n",
            "Population in 2300       7265     6446   1469        9717      11186\n",
            "Population in 2400       2863     2720   6272        1591       7863\n"
          ]
        }
      ],
      "source": [
        "#import libs\n",
        "import pandas as pd\n",
        "import numpy as np\n",
        "\n",
        "#set the town and year list for columns and index\n",
        "town = ['Hempstead', 'Babylon', 'Islip', 'Brookhaven']\n",
        "year = ['Population in 2099', 'Population in 2300', 'Population in 2400']\n",
        "\n",
        "#generate random integer data between 1000 and 10000 for a 3x4 array\n",
        "data = np.random.randint(1000, 10001, size=(3, 4))\n",
        "\n",
        "#create dataframe using previous variables\n",
        "df = pd.DataFrame(data, columns=town, index=year)\n",
        "\n",
        "#print the value of first hepstead row\n",
        "print(df)\n",
        "print(\"\\n Value in the cell of row #1 under the Hempstead column:\", df.at['Population in 2099', 'Hempstead'])\n",
        "\n",
        "#create new column by summing islip and brookhaven values\n",
        "df['Riverhead'] = df['Islip'] + df['Brookhaven']\n",
        "print(\"\\n\",df)"
      ]
    },
    {
      "cell_type": "markdown",
      "metadata": {
        "id": "WqHDjQC-KLjo"
      },
      "source": [
        "## 4. Pandas II (15 pts)"
      ]
    },
    {
      "cell_type": "markdown",
      "metadata": {
        "id": "w6kHh8BENzHk"
      },
      "source": [
        "0. Download the cvs file that comes with this assignment, and read it into a dataframe. You can also download this [csv file](https://media.githubusercontent.com/media/datablist/sample-csv-files/main/files/customers/customers-100.csv) with this link.\n",
        "1. Arrange the data in alphabetical order based on the last name. Display the first few rows.\n",
        "2. Count the number of customers whose subscription date is in 2021 (2021-01-01 to 2021-12-31). Report this number (e.g. print)."
      ]
    },
    {
      "cell_type": "code",
      "execution_count": 39,
      "metadata": {},
      "outputs": [
        {
          "name": "stdout",
          "output_type": "stream",
          "text": [
            "    Index      Customer Id First Name Last Name                Company  \\\n",
            "67     68  a014Ec1b9FccC1E        Tom  Alvarado    Donaldson-Dougherty   \n",
            "96     97  CeD220bdAaCfaDf       Lynn  Atkinson  Ware, Burns and Oneal   \n",
            "92     93  aAb6AFc7AfD0fF3     Collin     Ayers          Lamb-Peterson   \n",
            "0       1  DD37Cf93aecA6Dc     Sheryl    Baxter        Rasmussen Group   \n",
            "15     16  8cad0b4CBceaeec    Miranda   Beasley     Singleton and Sons   \n",
            "\n",
            "                City    Country             Phone 1                Phone 2  \\\n",
            "67  South Sophiaberg   Kiribati  (585)606-2980x2258      730-797-3594x5614   \n",
            "96      New Bradview  Sri Lanka     +1-846-706-2218           605.413.3198   \n",
            "92      South Lonnie   Anguilla    404-645-5351x012  001-257-582-8850x8516   \n",
            "0       East Leonard      Chile        229.077.5154       397.884.0519x718   \n",
            "15      Desireeshire       Oman    540.085.3135x185  +1-600-462-6432x21881   \n",
            "\n",
            "                            Email Subscription Date  \\\n",
            "67  nicholsonnina@montgomery.info        2020-08-18   \n",
            "96              vkemp@ferrell.com        2021-07-10   \n",
            "92       dudleyemily@gonzales.biz        2021-06-29   \n",
            "0        zunigavanessa@smith.info        2020-08-24   \n",
            "15        vduncan@parks-hardy.com        2022-04-12   \n",
            "\n",
            "                       Website  \n",
            "67     http://odom-massey.com/  \n",
            "96  https://novak-allison.com/  \n",
            "92        http://www.ruiz.com/  \n",
            "0   http://www.stephenson.com/  \n",
            "15          http://acosta.org/  \n",
            "Number of customers in 2021: 43\n"
          ]
        }
      ],
      "source": [
        "#import\n",
        "import pandas as pd\n",
        "\n",
        "#read the data table\n",
        "df = pd.read_csv('customers-100.csv')\n",
        "\n",
        "#sort the table by last name and print the first few rows of sorted dataframe\n",
        "df = df.sort_values(by='Last Name')\n",
        "print(df.head())\n",
        "\n",
        "#convert subscription date to datetime format\n",
        "df['Subscription Date'] = pd.to_datetime(df['Subscription Date'])\n",
        "\n",
        "#create a new dataframe that contains customers who subscribed in the year 2021. Filter df from 1/1/21 to 12/13/21.\n",
        "cus_2021 = df[(df['Subscription Date'] >= '2021-01-01') & (df['Subscription Date'] <= '2021-12-31')]\n",
        "#print the # of customers in 2021\n",
        "print(\"Number of customers in 2021:\", len(cus_2021))"
      ]
    },
    {
      "cell_type": "markdown",
      "metadata": {
        "id": "aBpXtK8VvApb"
      },
      "source": [
        "## 5. LU decomposition (50 + 30 pts)\n"
      ]
    },
    {
      "cell_type": "markdown",
      "metadata": {
        "id": "ryafNieevrgZ"
      },
      "source": [
        "Part A (50 points)\n",
        "1. Write a function `LUdecomposition()` that takes as input a matrix $A\\in \\mathbb{R}^{n \\times n}$. Perform Gaussian Elimination to have this function return two matrices $L$ and $U$ such that $A=LU$.\n",
        "2. Your function should raise any relevant errors, for example, raise an error if a pure LU decomposition does not exist for $A$ (meaning that you have to perform pivoting, i.e., permutation of rows).\n",
        "3. Create several random matrices for the purpose of testing your function. Obtain the $L$ and $U$ matrices, and for each random matrix obtain its L and U matrices and perform a matrix multiplication (`np.matmul()`) to determine whether the outcome closely resembles the original matrix $A$, allowing for slight differences attributable to precision errors.\n",
        "\n",
        "\n",
        "Note: LU decomposition with Gaussian elimination should be covered in your undergraduate linear algebra class. It is also covered in AMS 510. If you do not know how, this 10 minute [video](https://www.youtube.com/watch?v=UlWcofkUDDU&ab_channel=Mathispower4u) explains it very well.\n",
        "\n",
        "Part B (30 bonus points)\n",
        "4. Not all square matrices have a pure LU decomposition. However, PLU decomposition always exists. Write another function `pivoting()` that takes as input a matrix $A$ and return the permutation/pivoting matrix $P$ such that $PA$ always has a pure LU decomposition.\n",
        "5. Find an example $A$ for which `LUdecomposition()` raises an error. Then, use `pivoting()` to find $P$, and find the pure LU decomposition of $PA$. Verify that indeed $PA = LU$ with matrix multiplication (`np.matmul()`).\n",
        "\n",
        "\n",
        "Hint: Please do not print out a giant matrix and visually examine the outcomes. Think of a way to verify your results and output a boolean value.\n"
      ]
    },
    {
      "cell_type": "markdown",
      "metadata": {
        "id": "QlP_giLsQRPM"
      },
      "source": [
        "Fact: LU and PLU decompositions are not unique."
      ]
    },
    {
      "cell_type": "code",
      "execution_count": 80,
      "metadata": {},
      "outputs": [
        {
          "name": "stdout",
          "output_type": "stream",
          "text": [
            "LU decomposition test result: True\n",
            "LU decomposition test result: True\n",
            "LU decomposition test result: True\n",
            "LU decomposition test result: True\n",
            "LU decomposition test result: True\n"
          ]
        }
      ],
      "source": [
        "#part A\n",
        "import numpy as np\n",
        "\n",
        "## Define a function for LU decomposition of a given matrix A\n",
        "def LUdecomposition(A):\n",
        "    n = A.shape[0]\n",
        "    L = np.eye(n)\n",
        "    U = A.copy() \n",
        "\n",
        "    #go through rows of A and perform row operations\n",
        "    for i in range(n):\n",
        "        factor = U[i+1:, i] / U[i, i]\n",
        "        L[i+1:, i] = factor\n",
        "        U[i+1:] -= factor[:, np.newaxis] * U[i]\n",
        "        \n",
        "    return L, U\n",
        "\n",
        "# Perform LU decomposition on random 3x3 matrices and test the result\n",
        "for i in range(5):\n",
        "    A  = np.random.rand(3, 3)\n",
        "    L, U = LUdecomposition(A)\n",
        "    result = np.allclose(np.matmul(L, U), A)\n",
        "    print(f\"LU decomposition test result:\", result)"
      ]
    },
    {
      "cell_type": "code",
      "execution_count": 88,
      "metadata": {},
      "outputs": [
        {
          "name": "stdout",
          "output_type": "stream",
          "text": [
            "LU decomposition test result: False\n",
            "PLU decomposition test result: True\n"
          ]
        }
      ],
      "source": [
        "#part b\n",
        "## Define a function for pivoting a matrix A\n",
        "def pivoting(A):\n",
        "    n = A.shape[0]\n",
        "    P = np.eye(n)\n",
        "    U = A.copy()\n",
        "    \n",
        "    for i in range(n):\n",
        "        # Find the row index (maxi) with the maximum absolute value in the current column\n",
        "        maxi = np.argmax(np.abs(U[i:, i])) + i\n",
        "        # Swap the rows of P and U to pivot\n",
        "        P[[i, maxi]] = P[[maxi, i]]\n",
        "        U[[i, maxi]] = U[[maxi, i]]\n",
        "    \n",
        "    return P\n",
        "\n",
        "# Define a matrix A for testing\n",
        "A = np.array([[0, 0, 0], [4, 5, 7], [1, 3, 3]], dtype=float)\n",
        "\n",
        "# Perform LU decomposition on the pivoted matrix PA and test\n",
        "P = pivoting(A)\n",
        "PA = np.matmul(P, A)\n",
        "L, U = LUdecomposition(PA)\n",
        "fresult = np.allclose(np.matmul(L, U), A)\n",
        "print(f\"LU decomposition test result:\",fresult)\n",
        "result = np.allclose(np.matmul(L, U), PA)\n",
        "print(f\"PLU decomposition test result:\",result)"
      ]
    },
    {
      "cell_type": "markdown",
      "metadata": {
        "id": "X_4ITuoU53KF"
      },
      "source": [
        "## 6. Markov Chain (30 pts)"
      ]
    },
    {
      "cell_type": "markdown",
      "metadata": {
        "id": "X2-wBoxIWLQs"
      },
      "source": [
        "**BACKGROUND:** Consider a Markov chain transition matrix $P$ on a set of $n$ states, where $P_{i j}$ corresponds to the probability $\\left(0 \\leq P_{i j} \\leq 1\\right)$ to go from state $i$ to the state $j$, and each row is normalized so that\n",
        "$$\n",
        "\\sum_{j=1}^n P_{i j}=1 .\n",
        "$$\n",
        "\n",
        "Let $p$ be a size- $n$ vector composed of the probability distribution over the $n$ states, where\n",
        "$$\n",
        "\\sum_{j=1}^n p_j=1 .\n",
        "$$\n",
        "\n",
        "The transition rule corresponding to the transition matrix $P$ is $\\hat{p}=P^T p$, where $\\hat{p}$ corresponds to a new probability distribution and\n",
        "$$\n",
        "\\sum_{j=1}^n \\hat{p}_j=1 .\n",
        "$$\n",
        "TASK: Write a program that works with 5 states `only use the numpy library`. In particular,\n",
        "0. Fix the random seed to be the last digit of your id: `numpy.random.seed()`.\n",
        "\n",
        "1. Construct a random $5 \\times 5$ matrix $P$, and normalize each row so that\n",
        "$$\n",
        "\\sum_{j=1}^5 P_{i j}=1 .\n",
        "$$\n",
        "\n",
        "2. Construct a random size-5 vector $p$ and normalize it so that\n",
        "$$\n",
        "\\sum_{j=1}^5 p_j=1 .\n",
        "$$\n",
        "Apply the transition rule 50 times to obtain $p_{50}$.\n",
        "3. Compute the eigenvector $v$ of $P^T$ corresponding to the eigenvalue 1 (and numerically, the eigenvalue closest to $1)$, and then scale the eigenvector so that\n",
        "$$\n",
        "\\sum_{j=1}^5 v_j=1 .\n",
        "$$\n",
        "This scaled eigenvector is known as the stationary distribution.\n",
        "\n",
        "4. Compute the component wise difference between $p_{50}$ and the stationary distribution. Do they match with each other within $1 \\mathrm{e}-5$ ?\n",
        "\n",
        "HINTS: You may find the following functions useful in your implementation:\n",
        "- np.random.rand\n",
        "- np.dot\n",
        "- np.linalg.eig"
      ]
    },
    {
      "cell_type": "code",
      "execution_count": 89,
      "metadata": {},
      "outputs": [
        {
          "name": "stdout",
          "output_type": "stream",
          "text": [
            "Matrix P:\n",
            " [[0.23349275 0.01388454 0.2943663  0.2331326  0.22512381]\n",
            " [0.19197294 0.11893085 0.35988718 0.17414328 0.15506575]\n",
            " [0.31324929 0.26685616 0.06787116 0.25900696 0.09301644]\n",
            " [0.25666609 0.27909931 0.16152828 0.2766763  0.02603002]\n",
            " [0.41334137 0.05341083 0.35024649 0.07897185 0.10402946]]\n",
            "\n",
            "Initial vector p:\n",
            " [0.27315399 0.15136211 0.22991378 0.2204666  0.12510351]\n",
            "\n",
            "Stationary distribution v:\n",
            " [0.27315399 0.15136211 0.22991378 0.2204666  0.12510351]\n",
            "\n",
            "Difference between p^50 and v:\n",
            " [8.32667268e-16 3.60822483e-16 5.55111512e-16 5.55111512e-16\n",
            " 4.44089210e-16]\n",
            "\n",
            "Do p^50 and v match within 1e-5? True\n"
          ]
        }
      ],
      "source": [
        "import numpy as np\n",
        "\n",
        "## Set a random seed for reproducibility my last id digit 2\n",
        "np.random.seed(2)\n",
        "\n",
        "# Generate random matrix P and p with rows normalized\n",
        "P = np.random.rand(5, 5)\n",
        "P = P / P.sum(axis=1, keepdims=True)\n",
        "\n",
        "p = np.random.rand(5)\n",
        "p = p / p.sum()\n",
        "\n",
        "# do the Markov chain for 50 iterations\n",
        "for i in range(50):\n",
        "    p = np.dot(p, P)\n",
        "\n",
        "# Compute the eigenvalues and eigenvectors of P transpose\n",
        "eigenvalues, eigenvectors = np.linalg.eig(P.T)\n",
        "\n",
        "# Select the eigenvector corresponding to the largest eigenvalue and normalize\n",
        "v = eigenvectors[:, np.argmax(eigenvalues)]\n",
        "v = v / v.sum()\n",
        "\n",
        "#find the diferfence between p and v\n",
        "difference = abs(p - v)\n",
        "\n",
        "#see if p^50 and v match within a tolerance of 1e-5\n",
        "match = np.allclose(p, v, atol=1e-5)\n",
        "\n",
        "#print all the results\n",
        "print(\"Matrix P:\\n\", P)\n",
        "print(\"\\nInitial vector p:\\n\", p)\n",
        "print(\"\\nStationary distribution v:\\n\", v)\n",
        "print(\"\\nDifference between p^50 and v:\\n\", difference)\n",
        "print(\"\\nDo p^50 and v match within 1e-5?\", match)"
      ]
    }
  ],
  "metadata": {
    "accelerator": "GPU",
    "anaconda-cloud": {},
    "colab": {
      "collapsed_sections": [
        "KR0Fl4yAQYad",
        "U5SL2j0sqnAJ",
        "29VDnBBE5pUV",
        "uzMa1xSEwhe3",
        "YCD9beX75Yp7",
        "aCgIDqeLBPjj",
        "WqHDjQC-KLjo",
        "wzeYQOW0OCH3",
        "X_4ITuoU53KF",
        "yoMb8G9jXWcu"
      ],
      "gpuType": "T4",
      "provenance": []
    },
    "kernelspec": {
      "display_name": "Python 3",
      "name": "python3"
    },
    "language_info": {
      "codemirror_mode": {
        "name": "ipython",
        "version": 3
      },
      "file_extension": ".py",
      "mimetype": "text/x-python",
      "name": "python",
      "nbconvert_exporter": "python",
      "pygments_lexer": "ipython3",
      "version": "3.11.5"
    }
  },
  "nbformat": 4,
  "nbformat_minor": 0
}
